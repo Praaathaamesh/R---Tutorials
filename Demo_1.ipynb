{
 "cells": [
  {
   "cell_type": "markdown",
   "metadata": {},
   "source": [
    "### Introduction: "
   ]
  },
  {
   "cell_type": "markdown",
   "metadata": {},
   "source": [
    "\n",
    "* Overview\n",
    "- R is a powerful tool for statistical computing and data analysis.\n",
    "- Widely used by statisticians, data scientists, and researchers.\n",
    "- Offers extensive packages and libraries for data manipulation, statistical modeling, and visualization.\n",
    "- Originated as an implementation of the S programming language, conceived in 1992, with a stable version released in 2000.\n",
    "\n",
    "* Key Features\n",
    "1. **Comprehensive Statistical Analysis**: Supports a wide range of statistical techniques.\n",
    "2. **Advanced Data Visualization**: Tools like ggplot2 and plotly for creating detailed visualizations.\n",
    "3. **Extensive Packages and Libraries**: Thousands of packages available via CRAN for various applications.\n",
    "4. **Open Source and Free**: Accessible to everyone without licensing costs.\n",
    "5. **Platform Independence**: Runs on Windows, macOS, and Linux.\n",
    "6. **Integration with Other Languages**: Compatible with C, C++, Python, Java, and SQL.\n",
    "7. **Powerful Data Handling**: Supports various data types and structures.\n",
    "8. **Robust Community Support**: Active user community providing resources and assistance.\n",
    "9. **Interactive Development Environment (IDE)**: RStudio offers a user-friendly interface.\n",
    "10. **Reproducible Research**: Tools like R Markdown for creating dynamic reports.\n",
    "\n",
    "* Advantages\n",
    "- Comprehensive statistical analysis capabilities.\n",
    "- Open-source nature allows for widespread use and contributions.\n",
    "- Cross-platform compatibility.\n",
    "- Encourages community contributions for package development.\n",
    "\n",
    "* Disadvantages\n",
    "- Some packages may have inconsistent quality.\n",
    "- High memory consumption can occur.\n",
    "- Limited support for troubleshooting.\n",
    "- Slower performance compared to languages like Python and MATLAB.\n",
    "\n",
    "* Applications\n",
    "- Used extensively in Data Science for statistical computing and design.\n",
    "- Popular among quantitative analysts for data importing and cleaning.\n",
    "- Fundamental tool in finance and analytics.\n",
    "- Employed by major tech companies like Google, Facebook, and Twitter.\n"
   ]
  },
  {
   "cell_type": "markdown",
   "metadata": {},
   "source": [
    "\n",
    "1. **Origin and Naming**: \n",
    "   - R is an implementation of the S programming language, with influences from Scheme.\n",
    "   - Named after the first names of its authors, Ross Ihaka and Robert Gentleman, and as a play on the name \"S.\"\n",
    "\n",
    "2. **Programming Paradigms**: \n",
    "   - Supports both procedural and object-oriented programming.\n",
    "   - Procedural programming includes procedures, records, modules, and calls; object-oriented programming includes classes, objects, and generic functions.\n",
    "\n",
    "3. **Interpreted Language**: \n",
    "   - R is an interpreted language, eliminating the need for a compiler, which speeds up script execution.\n",
    "\n",
    "4. **Extensive Packages**: \n",
    "   - Over 100,000 R packages available via CRAN and GitHub, enabling complex tasks with minimal code.\n",
    "\n",
    "5. **Rapid Growth**: \n",
    "   - R is growing faster than other data science languages and is the second most-used language after SQL, utilized by 70% of data miners.\n",
    "\n",
    "6. **Reproducible Documents**: \n",
    "   - The rmarkdown package allows users to create reproducible Word documents and PowerPoint presentations from R markdown code with a simple YAML change.\n",
    "\n",
    "7. **Database Connectivity**: \n",
    "   - Easy connection to various databases using the dbplyr package, allowing independent data pulling from common database types.\n",
    "\n",
    "8. **Interactive Web Apps**: \n",
    "   - Create and host interactive web apps with minimal code using the flexdashboard package; deploy on personal or cloud servers with rsconnect.\n",
    "\n",
    "9. **Game Development**: \n",
    "   - The nessy package enables the creation of NES-style Shiny apps, allowing for game development in R.\n",
    "\n",
    "10. **API Development**: \n",
    "    - The plumber package converts R functions into web APIs for integration with other applications.\n",
    "\n",
    "11. **Popularity**: \n",
    "    - R ranks #7 in the PYPL Popularity of Programming Languages and is the top Google search for advanced analytics software, with over 3 million users globally.\n",
    "\n",
    "12. **Historical Background**: \n",
    "    - Introduced in 1993 by Ross Ihaka and Robert Gentleman at the University of Auckland, New Zealand.\n",
    "\n",
    "13. **Open Source**: \n",
    "    - R is free and open-source, available for statistical and graphical purposes.\n",
    "\n",
    "14. **Supportive Community**: \n",
    "    - R has a large, enthusiastic user community providing resources and assistance.\n",
    "\n",
    "15. **Widespread Usage**: \n",
    "    - Commonly used in data science, machine learning, and statistical modeling, making it a sought-after programming language.\n",
    "\n",
    "16. **Diverse Applications**: \n",
    "    - Utilized in industries like finance, healthcare, pharmaceuticals, and marketing for data analysis and modeling.\n",
    "\n",
    "17. **Academic Research**: \n",
    "    - A crucial tool in various academic disciplines, including biology, psychology, and economics.\n",
    "\n",
    "18. **Cross-Platform Compatibility**: \n",
    "    - Operates seamlessly on Windows, macOS, and Linux, ensuring accessibility for all users.\n",
    "\n",
    "\n",
    "    - integration with C, C++, .Net, Python, FORTRAN\n",
    "    - freely available under GNU-GPL and distributed under GNU- style copy left and is a part of GNU project called GNU S; precompiled binary versions for different os"
   ]
  },
  {
   "cell_type": "markdown",
   "metadata": {},
   "source": [
    "### Basic Syntax"
   ]
  },
  {
   "cell_type": "code",
   "execution_count": 85,
   "metadata": {
    "vscode": {
     "languageId": "r"
    }
   },
   "outputs": [
    {
     "name": "stdout",
     "output_type": "stream",
     "text": [
      "[1] \"Helloworld\"\n"
     ]
    }
   ],
   "source": [
    "# start R command prompt\n",
    "# $ R\n",
    "\n",
    "# first program\n",
    "print(\"Helloworld\")"
   ]
  },
  {
   "cell_type": "code",
   "execution_count": 86,
   "metadata": {
    "vscode": {
     "languageId": "r"
    }
   },
   "outputs": [
    {
     "name": "stdout",
     "output_type": "stream",
     "text": [
      "[1] \"yo\"\n",
      "[1] \"yo\"\n",
      "[1] \"yo\"\n"
     ]
    }
   ],
   "source": [
    "# BASIC SYNTAX\n",
    "\n",
    "# ASSIGNMENTS (SIMPLE, LEFTWARD, RIGHTWARD)\n",
    "\n",
    "v1 = \"yo\"\n",
    "v2 <- \"yo\" # or u can use <<-\n",
    "\"yo\" -> v3 # or u can use ->>\n",
    "print(v1)\n",
    "print(v2)\n",
    "print(v3)\n",
    "\n",
    "# DOUBLE LINE COMMENTS: use following strategy\n",
    "if (FALSE)\n",
    "{\n",
    "'hello\n",
    "how are you'\n",
    "  \n",
    "\"hello\n",
    "how are you\"\n",
    "}"
   ]
  },
  {
   "attachments": {
    "image.png": {
     "image/png": "[encoded data removed]"
    }
   },
   "cell_type": "markdown",
   "metadata": {},
   "source": [
    "![image.png](attachment:image.png)"
   ]
  },
  {
   "cell_type": "markdown",
   "metadata": {},
   "source": [
    "### Operators"
   ]
  },
  {
   "cell_type": "code",
   "execution_count": 87,
   "metadata": {
    "vscode": {
     "languageId": "r"
    }
   },
   "outputs": [
    {
     "name": "stdout",
     "output_type": "stream",
     "text": [
      "[1] 6\n",
      "[1] -2\n",
      "[1] 8\n",
      "[1] 0.5\n",
      "[1] 16\n",
      "[1] 2\n"
     ]
    }
   ],
   "source": [
    "# ARITHMATIC OPERATORS\n",
    "a <- 2\n",
    "b <- 4\n",
    "\n",
    "print(a+b)\n",
    "print(a-b)\n",
    "print(a*b)\n",
    "print(a/b)\n",
    "print(b^a) #POWER\n",
    "print(a%%b) #MODULUS\n"
   ]
  },
  {
   "cell_type": "code",
   "execution_count": 88,
   "metadata": {
    "vscode": {
     "languageId": "r"
    }
   },
   "outputs": [
    {
     "name": "stdout",
     "output_type": "stream",
     "text": [
      "Element wise AND : FALSE FALSE \n",
      "Element wise OR : TRUE TRUE \n",
      "Logical AND : FALSE \n",
      "Logical OR : TRUE \n",
      "Negation : TRUE FALSE"
     ]
    }
   ],
   "source": [
    "# LOGICAL OPERATORS: TRUE FALSE NA\n",
    "vec1 <- c(0,2)\n",
    "vec2 <- c(TRUE,FALSE)\n",
    "\n",
    "cat (\"Element wise AND :\", vec1 & vec2, \"\\n\") #Any non zero integer value is considered as a TRUE value, be it complex or real number.\n",
    "cat (\"Element wise OR :\", vec1 | vec2, \"\\n\")\n",
    "cat (\"Logical AND :\", vec1[1] && vec2[1], \"\\n\")\n",
    "cat (\"Logical OR :\", vec1[1] || vec2[1], \"\\n\")\n",
    "cat (\"Negation :\", !vec1)"
   ]
  },
  {
   "cell_type": "code",
   "execution_count": 89,
   "metadata": {
    "vscode": {
     "languageId": "r"
    }
   },
   "outputs": [
    {
     "name": "stdout",
     "output_type": "stream",
     "text": [
      "Vector1 less than Vector2 : TRUE TRUE \n",
      "Vector1 less than equal to Vector2 : TRUE TRUE \n",
      "Vector1 greater than Vector2 : FALSE FALSE \n",
      "Vector1 greater than equal to Vector2 : FALSE FALSE \n",
      "Vector1 not equal to Vector2 : TRUE TRUE \n"
     ]
    }
   ],
   "source": [
    "# RELATIONAL OPERATORS\n",
    "vec1 <- c(0, 2)\n",
    "vec2 <- c(2, 3)\n",
    "\n",
    "# element wise operations\n",
    "cat (\"Vector1 less than Vector2 :\", vec1 < vec2, \"\\n\")\n",
    "cat (\"Vector1 less than equal to Vector2 :\", vec1 <= vec2, \"\\n\")\n",
    "cat (\"Vector1 greater than Vector2 :\", vec1 > vec2, \"\\n\")\n",
    "cat (\"Vector1 greater than equal to Vector2 :\", vec1 >= vec2, \"\\n\")\n",
    "cat (\"Vector1 not equal to Vector2 :\", vec1 != vec2, \"\\n\")"
   ]
  },
  {
   "cell_type": "code",
   "execution_count": 90,
   "metadata": {
    "vscode": {
     "languageId": "r"
    }
   },
   "outputs": [
    {
     "name": "stdout",
     "output_type": "stream",
     "text": [
      "[1] \"Matrix elements using : \"\n",
      "     [,1] [,2] [,3] [,4]\n",
      "[1,]    1    2    3    4\n",
      "[1] \"Product of matrices\"\n",
      "     [,1]\n",
      "[1,]   30\n",
      "does 1 exist in prod matrix : FALSE"
     ]
    }
   ],
   "source": [
    "# MISCELLANEOUS OPERATORS\n",
    "\n",
    "mat <- matrix (1:4, nrow = 1, ncol = 4) #create a matrix\n",
    "print(\"Matrix elements using : \")\n",
    "print(mat)\n",
    "\n",
    "product = mat %*% t(mat) #multiplying matrix with its transpose\n",
    "print(\"Product of matrices\")\n",
    "print(product,)\n",
    "cat (\"does 1 exist in prod matrix :\", \"1\" %in% product) #check if matrix has 1 in it"
   ]
  },
  {
   "cell_type": "markdown",
   "metadata": {},
   "source": [
    "### Datatypes"
   ]
  },
  {
   "attachments": {
    "image.png": {
     "image/png": "[encoded data removed]"
    }
   },
   "cell_type": "markdown",
   "metadata": {},
   "source": [
    "* dynamically typed so no explicit declaration of dt\n",
    "* vars are assigned a R-obj and dt of R-obj becomes dt of var\n",
    "* vector is simplest obj. 6 dts/classes of atomic vectors:\n",
    "    ```logical,numeric,integer,complex, character,raw```\n",
    "* imp functions:\n",
    "    * class(): kind of object (highlevel)\n",
    "    * typeof(): kind of object (low level)\n",
    "    * attributes(): have any metadata?\n",
    "![image.png](attachment:image.png)"
   ]
  },
  {
   "cell_type": "code",
   "execution_count": 91,
   "metadata": {
    "vscode": {
     "languageId": "r"
    }
   },
   "outputs": [
    {
     "name": "stdout",
     "output_type": "stream",
     "text": [
      "numeric double \n",
      "integer integer \n",
      "TRUE logical logical \n",
      "complex complex \n",
      "character character \n",
      "raw raw \n",
      "[1] \"logical\"\n",
      "[1] \"integer\"\n",
      "[1] \"numeric\"\n",
      "[1] \"complex\"\n",
      "[1] \"character\"\n",
      "[1] TRUE\n",
      "[1] TRUE\n",
      "[1] TRUE\n",
      "[1] TRUE\n",
      "[1] TRUE\n",
      "[1] 1\n",
      "[1] 3+0i\n",
      "[1] TRUE\n",
      "[1] \"1+2i\"\n"
     ]
    }
   ],
   "source": [
    "# NUMERIC DATATYPE: basically decimals; default dt for numbers; representation of number by \"DOUBLE PRECISION FPN\"\n",
    "x = 5 #numeric\n",
    "y = 5.6 #numeric\n",
    "cat(class(x), typeof(x), \"\\n\") # >>>> numeric double {here double = decimal type wiht minimum 2 decimal places}\n",
    "\n",
    "# INTEGER DATATYPE: subset of numeric\n",
    "z = 4L\n",
    "cat(class(z), typeof(z), \"\\n\")\n",
    "\n",
    "# LOGICAL DATATYPE\n",
    "l = y>x\n",
    "cat(l, class(l), typeof(l), \"\\n\")\n",
    "\n",
    "# COMPLEX DATATYPE: real and imaginary part; cant find sqrt of -1 but can find of -1+0i and is 0+1i if u cerce -1 in complext it will be 0+1i\n",
    "c = 4+3i\n",
    "cat(class(c), typeof(c), \"\\n\")\n",
    "\n",
    "#CHARACTER DATATYPE: strings, paste(char1,char2) function to concatenate these\n",
    "char = \"hello\"\n",
    "cat(class(char), typeof(char), \"\\n\")\n",
    "\n",
    "# RAW DATATYPE: save and work at raw byte level to do low level operations; done by displaying series of unprocessed bytes\n",
    "raw <- as.raw(c(0x1, 0x2, 0x3, 0x4, 0x5)) # raw vector-each byte as a pai of hex digits\n",
    "# as.raw() will be 0 is fails\n",
    "# is.raw is TRUE <=> typeof(raw_var) is \"raw\"\n",
    "cat(class(raw), typeof(raw), \"\\n\")\n",
    "\n",
    "# KNOWING THE DATATYPE: class(object) \n",
    "# Logical\n",
    "print(class(TRUE))\n",
    "# Integer\n",
    "print(class(3L))\n",
    "# Numeric\n",
    "print(class(10.5))\n",
    "# Complex\n",
    "print(class(1+2i))\n",
    "# Character\n",
    "print(class(\"12-04-2020\"))\n",
    "\n",
    "# TYPE VERIFICATION: is.datatype(object)\n",
    "# Logical\n",
    "print(is.logical(TRUE))\n",
    "# Integer\n",
    "print(is.integer(3L))\n",
    "# Numeric\n",
    "print(is.numeric(10.5))\n",
    "# Complex\n",
    "print(is.complex(1+2i))\n",
    "# Character\n",
    "print(is.character(\"12-04-2020\"))\n",
    "\n",
    "# COERCEING DTS: as.datatype(object)\n",
    "# Logical\n",
    "print(as.numeric(TRUE))\n",
    "# Integer\n",
    "print(as.complex(3L))\n",
    "# Numeric\n",
    "print(as.logical(10.5))\n",
    "# Complex\n",
    "print(as.character(1+2i))\n",
    "# Can't possible: print(as.numeric(\"12-04-2020\")); error will be thrown\n"
   ]
  },
  {
   "cell_type": "code",
   "execution_count": 5,
   "metadata": {
    "vscode": {
     "languageId": "r"
    }
   },
   "outputs": [
    {
     "name": "stdout",
     "output_type": "stream",
     "text": [
      "character character \n"
     ]
    },
    {
     "data": {
      "text/html": [
       "'hello sam'"
      ],
      "text/latex": [
       "'hello sam'"
      ],
      "text/markdown": [
       "'hello sam'"
      ],
      "text/plain": [
       "[1] \"hello sam\""
      ]
     },
     "metadata": {},
     "output_type": "display_data"
    },
    {
     "data": {
      "text/html": [
       "'raj has 100 dollars'"
      ],
      "text/latex": [
       "'raj has 100 dollars'"
      ],
      "text/markdown": [
       "'raj has 100 dollars'"
      ],
      "text/plain": [
       "[1] \"raj has 100 dollars\""
      ]
     },
     "metadata": {},
     "output_type": "display_data"
    },
    {
     "data": {
      "text/html": [
       "'EFGHIJ'"
      ],
      "text/latex": [
       "'EFGHIJ'"
      ],
      "text/markdown": [
       "'EFGHIJ'"
      ],
      "text/plain": [
       "[1] \"EFGHIJ\""
      ]
     },
     "metadata": {},
     "output_type": "display_data"
    },
    {
     "data": {
      "text/html": [
       "'raj has small car'"
      ],
      "text/latex": [
       "'raj has small car'"
      ],
      "text/markdown": [
       "'raj has small car'"
      ],
      "text/plain": [
       "[1] \"raj has small car\""
      ]
     },
     "metadata": {},
     "output_type": "display_data"
    }
   ],
   "source": [
    "# CHARACTER DATATYPE: strings, \n",
    "char = \"hello\"\n",
    "cat(class(char), typeof(char), \"\\n\")\n",
    "# paste(char1,char2) function to concatenate these\n",
    "char2 <- \"sam\"\n",
    "paste(char, char2)\n",
    "# readable string with the sprintf() function, which has a C language syntax\n",
    "sprintf(\"%s has %d dollars\",\"raj\",100)\n",
    "# To extract a substring, we apply the substr(str,start =, stop =) function\n",
    "substr(\"ABCDEFGHIJKLMNOPQRSTUVWXYZ\", start = 5, stop =10) #from substring within 5 and 10\n",
    "# to replace first occurance of a substring in a string by other substring, use sub()\n",
    "sub(\"big\", \"small\", \"raj has big car\") # replace big with small"
   ]
  },
  {
   "cell_type": "markdown",
   "metadata": {},
   "source": [
    "### Variables"
   ]
  },
  {
   "cell_type": "markdown",
   "metadata": {},
   "source": [
    "* named storage which ou programs can manipulate.\n",
    "* can store atomic vector(s)/combination of many objects.\n",
    "* dynammically typed language; no expicit declaration of dt; we can change dt again and again\n",
    "* creation: leftward, ightward or assignment operator\n",
    "* case sensitive\n",
    "* naming conventions: \n",
    "    * alphanum, special char (. and _)\n",
    "    * startwith alphabet or . ; not num or _\n",
    "    * if startswith . then next must NOT be a num\n",
    "    * no reserved keyword\n",
    "* imp methods: \n",
    "    * class(): knowing datatype\n",
    "    * ls(pattern = \"pattern_name\", all.name = TRUE): know all present variables in workspace; pattern for finding specific pattern within var names; all.name for finding hidden vars which start with dot (.) \n",
    "    * rm(): delete unwanted variables in workspace\n",
    "    * local and global variables \n",
    "\n",
    "* note: ```The vector c(TRUE,1) has a mix of logical and numeric class. So logical\n",
    "class is coerced to numeric class making TRUE as 1.```"
   ]
  },
  {
   "cell_type": "code",
   "execution_count": 92,
   "metadata": {
    "vscode": {
     "languageId": "r"
    }
   },
   "outputs": [
    {
     "name": "stdout",
     "output_type": "stream",
     "text": [
      "[1] \"character\"\n",
      " [1] \"a\"             \"A\"             \"accdf\"         \"b\"            \n",
      " [5] \"B\"             \"c\"             \"char\"          \"D\"            \n",
      " [9] \"empAge\"        \"empId\"         \"empList\"       \"empName\"      \n",
      "[13] \"l\"             \"lst\"           \"lst1\"          \"lst2\"         \n",
      "[17] \"M\"             \"mat\"           \"My.nums\"       \"my_named_list\"\n",
      "[21] \"new_list\"      \"newdf\"         \"newfactor\"     \"newmatrix\"    \n",
      "[25] \"newmatrix2\"    \"numberOfEmp\"   \"product\"       \"raw\"          \n",
      "[29] \"S\"             \"thisarray\"     \"thisdf\"        \"thisdf2\"      \n",
      "[33] \"thisfactor\"    \"thismatrix\"    \"v1\"            \"v2\"           \n",
      "[37] \"v3\"            \"var1\"          \"var2\"          \"var3\"         \n",
      "[41] \"vec\"           \"vec1\"          \"vec2\"          \"x\"            \n",
      "[45] \"X\"             \"y\"             \"Y\"             \"z\"            \n",
      "[49] \"Z\"             \"z1\"            \"z2\"           \n"
     ]
    }
   ],
   "source": [
    "# class()\n",
    "var1 = \"hello\"\n",
    "print(class(var1))\n",
    "\n",
    "# ls()\n",
    "var2 <- \"hello\"\n",
    "\"hello\" -> var3\n",
    "print(ls())\n",
    "\n",
    "# rm()\n",
    "# rm(list = ls()) removes all variables in workspace\n",
    "rm(var3)"
   ]
  },
  {
   "cell_type": "markdown",
   "metadata": {},
   "source": [
    "### Data Structures"
   ]
  },
  {
   "cell_type": "markdown",
   "metadata": {},
   "source": [
    "* way of oranising data for effective use; reduce space-time complexities\n",
    "* organised as: dimensionality(1D,2D,...,nD) & type of elements in a DS (Homogenous or heterogenous)\n",
    "* ds types:\n",
    "    * vectors: ordered, homogenos ds, 1D; c()\n",
    "    * lists: ordered, heterogenous, 1D; list()\n",
    "    * dataframes: tabular, most popular, heterogenous, 2D; data.frame()\n",
    "    * matrices: rows and cols, homogenous, 2D, matrix()\n",
    "    * arrays: more than two dimensions, homogenous, nD, array()\n",
    "    * factors: categorise and store data as levels, heterogenous (string/ints), 1D, factor()\n",
    "    * tibbles: enhanced dataframe and part of tidyverse"
   ]
  },
  {
   "cell_type": "markdown",
   "metadata": {},
   "source": [
    "#### Vectors"
   ]
  },
  {
   "cell_type": "markdown",
   "metadata": {},
   "source": [
    "* same as arrays; seq of data elements\n",
    "* indexing starts from 1 not 0\n",
    "* ordered, homogenous and 1D\n",
    "* c(components/members)"
   ]
  },
  {
   "cell_type": "markdown",
   "metadata": {},
   "source": [
    "##### BASIC OPERATIONS"
   ]
  },
  {
   "cell_type": "markdown",
   "metadata": {},
   "source": [
    "\n",
    "* creating: c(comma separated elements) or seq() or uing colon as 1:10 \n",
    "* length: length(vector object)\n",
    "* accessing: \n",
    "    * use subscript operator: vector_obj[2]\n",
    "    * use combine() function: vector_obj[c(4,1)]\n",
    "* modifying:\n",
    "    * using subscript operator: vector_obj[3] <- 2; 3rd element updated as 2\n",
    "    * using logical indexing: vector_obj[1:5] <- 0; 1 to 5 element in vector as 0\n",
    "    * using combine operator:vector_obj <- vector_obj[c(3,2,1)]; 3rd,2nd,1st element of vector are made as new vector\n",
    "* deleting:\n",
    "    * using NULL keyword: vector_obj <- NULL\n",
    "* arithmatics: using arithmatic operators\n",
    "* sorting:\n",
    "    * using sort(vector_obj, decreasing = TRUE)"
   ]
  },
  {
   "cell_type": "code",
   "execution_count": 2,
   "metadata": {
    "vscode": {
     "languageId": "r"
    }
   },
   "outputs": [
    {
     "name": "stdout",
     "output_type": "stream",
     "text": [
      "[1] \"using c function\"\n",
      "[1] 1 4 5 2 6 7\n",
      "[1] \"using seq() function\"\n",
      " [1]  1.0  1.5  2.0  2.5  3.0  3.5  4.0  4.5  5.0  5.5  6.0  6.5  7.0  7.5  8.0\n",
      "[16]  8.5  9.0  9.5 10.0\n",
      "[1] \"using colon\"\n",
      " [1]  1.0  1.5  2.0  2.5  3.0  3.5  4.0  4.5  5.0  5.5  6.0  6.5  7.0  7.5  8.0\n",
      "[16]  8.5  9.0  9.5 10.0\n"
     ]
    }
   ],
   "source": [
    "# CREATING \n",
    "# by default the type will be double\n",
    "X <- c(1, 4, 5, 2, 6, 7) \n",
    "print('using c function')\n",
    "print(X)\n",
    "  \n",
    "# using the seq() function to generate\n",
    "# a sequence of continuous values \n",
    "# with different step-size and length.\n",
    "# length.out defines the length of vector.\n",
    "Y <- seq(1, 10, by = 0.5) \n",
    "print('using seq() function') \n",
    "print(Y)\n",
    "  \n",
    "# using ':' operator/range operator to create\n",
    "# a vector of continuous values. \n",
    "# only applicable for numeric data\n",
    "Z <- 5:10\n",
    "print('using colon')\n",
    "print(Y)"
   ]
  },
  {
   "cell_type": "code",
   "execution_count": 7,
   "metadata": {
    "vscode": {
     "languageId": "r"
    }
   },
   "outputs": [
    {
     "name": "stdout",
     "output_type": "stream",
     "text": [
      "[1] \"using c function\"\n",
      "[1] 1 4 5 2 6 7\n",
      "accessing element in second position\n",
      "[1] 4\n",
      "accessing all elements except element in second position\n",
      "[1] 1 5 2 6 7\n",
      "accessing elements from 2nd to 4thposition\n",
      "[1] 4 5 2\n",
      "[1] \"mon\"   \"thurs\" \"wedn\" \n",
      "[1] \"mon\"   \"thurs\" \"wedn\" \n",
      "[1] \"mon\"   \"thurs\"\n"
     ]
    }
   ],
   "source": [
    "# ACCESSING\n",
    "\n",
    "X <- c(1, 4, 5, 2, 6, 7) \n",
    "print('using c function')\n",
    "print(X)\n",
    "cat(\"accessing element in second position\\n\")\n",
    "print(X[2])\n",
    "cat(\"accessing all elements except element in second position\\n\")\n",
    "print(X[-2])\n",
    "# if out of index NA is outputted\n",
    "cat(\"accessing elements from 2nd to 4thposition\\n\")\n",
    "print(X[2:4]) # here 4 is included unlike python\n",
    "\n",
    "# indexing multiple elements\n",
    "days <- c(\"mon\",\"tues\",\"thurs\",\"wedn\")\n",
    "print(days[c(1,3,4)])\n",
    "print(days[c(TRUE,FALSE,TRUE,TRUE)]) # same as above\n",
    "print(days[c(-2,-4)]) # without 2nd and 4th element"
   ]
  },
  {
   "cell_type": "code",
   "execution_count": 95,
   "metadata": {
    "vscode": {
     "languageId": "r"
    }
   },
   "outputs": [
    {
     "name": "stdout",
     "output_type": "stream",
     "text": [
      "[1] \"Using subscript operator\"\n",
      "[1]  2  5 11  7  8  2\n",
      "[1] \"Logical indexing\"\n",
      "[1] 2 5 0 7 8 2\n",
      "[1] \"using c function\"\n",
      "[1] 8 5 2\n"
     ]
    }
   ],
   "source": [
    "# MODIFYING \n",
    "\n",
    "# Creating a vector\n",
    "X <- c(2, 5, 1, 7, 8, 2)\n",
    "  \n",
    "# modify a specific element\n",
    "X[3] <- 11\n",
    "print('Using subscript operator')\n",
    "print(X)\n",
    "  \n",
    "# Modify using different logics.\n",
    "X[X>9] <- 0\n",
    "print('Logical indexing')\n",
    "print(X)\n",
    "  \n",
    "# Modify by specifying the position or elements.\n",
    "X <- X[c(5, 2, 1)]\n",
    "print('using c function')\n",
    "print(X)"
   ]
  },
  {
   "cell_type": "code",
   "execution_count": 96,
   "metadata": {
    "vscode": {
     "languageId": "r"
    }
   },
   "outputs": [
    {
     "name": "stdout",
     "output_type": "stream",
     "text": [
      "[1] \"Deleted vector\"\n",
      "NULL\n"
     ]
    }
   ],
   "source": [
    "# DELETING\n",
    "\n",
    "# Creating a vector\n",
    "X <- c(5, 2, 1, 6)\n",
    "  \n",
    "# Deleting a vector\n",
    "X <- NULL\n",
    "print('Deleted vector')\n",
    "print(X)"
   ]
  },
  {
   "cell_type": "code",
   "execution_count": 97,
   "metadata": {
    "vscode": {
     "languageId": "r"
    }
   },
   "outputs": [
    {
     "name": "stdout",
     "output_type": "stream",
     "text": [
      "[1] \"Addition\"\n",
      "[1] 12 11  6  6 53  3\n",
      "[1] \"Subtraction\"\n",
      "[1] -2 -7  4 -4 49  1\n",
      "[1] \"Multiplication\"\n",
      "[1]  35  18   5   5 102   2\n",
      "[1] \"Division\"\n",
      "[1]  0.7142857  0.2222222  5.0000000  0.2000000 25.5000000  2.0000000\n"
     ]
    }
   ],
   "source": [
    "# ARITHMATIC OPERATIONS\n",
    "\n",
    "# Creating Vectors\n",
    "X <- c(5, 2, 5, 1, 51, 2)\n",
    "Y <- c(7, 9, 1, 5, 2, 1)\n",
    "# Addition\n",
    "Z <- X + Y\n",
    "print('Addition')\n",
    "print(Z) \n",
    "# Subtraction\n",
    "S <- X - Y\n",
    "print('Subtraction')\n",
    "print(S)\n",
    "# Multiplication\n",
    "M <- X * Y\n",
    "print('Multiplication')\n",
    "print(M)\n",
    "# Division\n",
    "D <- X / Y\n",
    "print('Division')\n",
    "print(D)\n",
    "# recycling rule: \n",
    "if(FALSE){\n",
    "    \"If two vectors are of unequal length, the shorter one will be recycled in order to\n",
    "match the longer vector.  For example, the following vectors u and v have different lengths, and their sum\n",
    "is computed by recycling values of the shorter vector u\"\n",
    "}"
   ]
  },
  {
   "cell_type": "code",
   "execution_count": 98,
   "metadata": {
    "vscode": {
     "languageId": "r"
    }
   },
   "outputs": [
    {
     "name": "stdout",
     "output_type": "stream",
     "text": [
      "[1] \"sorting done in ascending order\"\n",
      "[1]  1  2  2  5  5 51\n",
      "[1] \"sorting done in descending order\"\n",
      "[1] 51  5  5  2  2  1\n"
     ]
    }
   ],
   "source": [
    "# SORTING VECTORS\n",
    "\n",
    "# Creating a Vector\n",
    "X <- c(5, 2, 5, 1, 51, 2)\n",
    "# Sort in ascending order\n",
    "A <- sort(X)\n",
    "print('sorting done in ascending order')\n",
    "print(A)\n",
    "# sort in descending order.\n",
    "B <- sort(X, decreasing = TRUE)\n",
    "print('sorting done in descending order')\n",
    "print(B)"
   ]
  },
  {
   "cell_type": "code",
   "execution_count": null,
   "metadata": {
    "vscode": {
     "languageId": "r"
    }
   },
   "outputs": [
    {
     "name": "stdout",
     "output_type": "stream",
     "text": [
      " first   last \n",
      " \"may\" \"june\" \n",
      "first \n",
      "\"may\" \n"
     ]
    }
   ],
   "source": [
    "# NAMED VECTOR\n",
    "v1 <- c(\"may\",\"june\")\n",
    "names(v1) <- c(\"first\", \"last\") # naming each member\n",
    "print(v1)\n",
    "print(v1[\"first\"]) # using names for indexing"
   ]
  },
  {
   "cell_type": "markdown",
   "metadata": {},
   "source": [
    "##### Append"
   ]
  },
  {
   "cell_type": "markdown",
   "metadata": {},
   "source": [
    "* using c()\n",
    "* using append()\n",
    "* using indexing"
   ]
  },
  {
   "cell_type": "code",
   "execution_count": 99,
   "metadata": {
    "vscode": {
     "languageId": "r"
    }
   },
   "outputs": [
    {
     "name": "stdout",
     "output_type": "stream",
     "text": [
      " [1]  1  2  3  4  5  6  7  8  9 10\n",
      "[1] \"1\" \"2\" \"3\" \"4\" \"a\" \"b\" \"c\" \"d\" \"e\"\n",
      " [1]  1  2  3  4  5  6  7  8  9 10\n",
      "[1] 1 2 3 4 5 6\n"
     ]
    }
   ],
   "source": [
    "# USING c()\n",
    "x <- 1:4\n",
    "y <- 5:10\n",
    "a <- letters[1:5]\n",
    "z <- c(x,y)\n",
    "z1 <- c(x,a)\n",
    "print(z)\n",
    "print(z1)\n",
    "\n",
    "# USING append()\n",
    "z2 <- append(x, y)\n",
    "print(z2)\n",
    "\n",
    "# USING INDEXING\n",
    "x[5] <- 5\n",
    "x[6] <- 6\n",
    "print(x)"
   ]
  },
  {
   "cell_type": "markdown",
   "metadata": {},
   "source": [
    "#### Lists"
   ]
  },
  {
   "cell_type": "markdown",
   "metadata": {},
   "source": [
    "* ordered collection of objects, heterogenous and 1D\n",
    "* create \n",
    "* naming a list\n",
    "* accessing a list:\n",
    "    * by names\n",
    "    * by indices\n",
    "* modifying\n",
    "* concatenation\n",
    "* appending\n",
    "* deleting component\n",
    "* merging \n",
    "* coverting to a vector: unlist()"
   ]
  },
  {
   "cell_type": "code",
   "execution_count": 100,
   "metadata": {
    "vscode": {
     "languageId": "r"
    }
   },
   "outputs": [
    {
     "name": "stdout",
     "output_type": "stream",
     "text": [
      "[[1]]\n",
      "[1] 1 2 3 4\n",
      "\n",
      "[[2]]\n",
      "[1] \"Debi\"    \"Sandeep\" \"Subham\"  \"Shiba\"  \n",
      "\n",
      "[[3]]\n",
      "[1] 4\n",
      "\n"
     ]
    }
   ],
   "source": [
    "# CREATING \n",
    "empId = c(1, 2, 3, 4)\n",
    "empName = c(\"Debi\", \"Sandeep\", \"Subham\", \"Shiba\")\n",
    "numberOfEmp = 4\n",
    "\n",
    "empList = list(empId, empName, numberOfEmp)\n",
    "  \n",
    "print(empList)\n",
    "#[[]] index [] subindex"
   ]
  },
  {
   "cell_type": "code",
   "execution_count": 73,
   "metadata": {
    "vscode": {
     "languageId": "r"
    }
   },
   "outputs": [
    {
     "name": "stdout",
     "output_type": "stream",
     "text": [
      "$name\n",
      "[1] \"Sudheer\"\n",
      "\n",
      "$age\n",
      "[1] 25\n",
      "\n",
      "$city\n",
      "[1] \"Delhi\"\n",
      "\n"
     ]
    }
   ],
   "source": [
    "# NAMING LIST COMPONENTS\n",
    "my_named_list <- list(name = \"Sudheer\", age = 25, city = \"Delhi\")\n",
    "print(my_named_list)\n",
    "# $name instead of [[]]"
   ]
  },
  {
   "cell_type": "code",
   "execution_count": 74,
   "metadata": {
    "vscode": {
     "languageId": "r"
    }
   },
   "outputs": [
    {
     "name": "stdout",
     "output_type": "stream",
     "text": [
      "$ID\n",
      "[1] 1 2 3 4\n",
      "\n",
      "$Names\n",
      "[1] \"Debi\"    \"Sandeep\" \"Subham\"  \"Shiba\"  \n",
      "\n",
      "$`Total Staff`\n",
      "[1] 4\n",
      "\n",
      "Accessing name components using $ command\n",
      "[1] \"Debi\"    \"Sandeep\" \"Subham\"  \"Shiba\"  \n",
      "$ID\n",
      "[1] 1 2 3 4\n",
      "\n",
      "$Names\n",
      "[1] \"Debi\"    \"Sandeep\" \"Subham\"  \"Shiba\"  \n",
      "\n",
      "$`Total Staff`\n",
      "[1] 4\n",
      "\n",
      "Accessing name components using indices\n",
      "[1] \"Debi\"    \"Sandeep\" \"Subham\"  \"Shiba\"  \n",
      "Accessing Sandeep from name using indices\n",
      "[1] \"Sandeep\"\n",
      "Accessing 4 from ID using indices\n",
      "[1] 4\n"
     ]
    }
   ],
   "source": [
    "# ACCESSING BY NAME\n",
    "empId = c(1, 2, 3, 4)\n",
    "empName = c(\"Debi\", \"Sandeep\", \"Subham\", \"Shiba\")\n",
    "numberOfEmp = 4\n",
    "empList = list(\n",
    "  \"ID\" = empId,\n",
    "  \"Names\" = empName,\n",
    "  \"Total Staff\" = numberOfEmp\n",
    "  )\n",
    "print(empList)\n",
    "cat(\"Accessing name components using $ command\\n\")\n",
    "print(empList$Names)\n",
    "\n",
    "# ACCESSING BY INDICES\n",
    "empId = c(1, 2, 3, 4)\n",
    "empName = c(\"Debi\", \"Sandeep\", \"Subham\", \"Shiba\")\n",
    "numberOfEmp = 4\n",
    "empList = list(\n",
    "  \"ID\" = empId,\n",
    "  \"Names\" = empName,\n",
    "  \"Total Staff\" = numberOfEmp\n",
    "  )\n",
    "print(empList)\n",
    "cat(\"Accessing name components using indices\\n\")\n",
    "print(empList[[2]])\n",
    "cat(\"Accessing Sandeep from name using indices\\n\")\n",
    "print(empList[[2]][2])\n",
    "cat(\"Accessing 4 from ID using indices\\n\")\n",
    "print(empList[[1]][4])\n"
   ]
  },
  {
   "cell_type": "code",
   "execution_count": 75,
   "metadata": {
    "vscode": {
     "languageId": "r"
    }
   },
   "outputs": [
    {
     "name": "stdout",
     "output_type": "stream",
     "text": [
      "Before modifying the list\n",
      "$ID\n",
      "[1] 1 2 3 4\n",
      "\n",
      "$Names\n",
      "[1] \"Debi\"    \"Sandeep\" \"Subham\"  \"Shiba\"  \n",
      "\n",
      "$`Total Staff`\n",
      "[1] 4\n",
      "\n",
      "After modified the list\n",
      "$ID\n",
      "[1] 1 2 3 4 5\n",
      "\n",
      "$Names\n",
      "[1] \"Debi\"    \"Sandeep\" \"Subham\"  \"Shiba\"   \"Kamala\" \n",
      "\n",
      "$`Total Staff`\n",
      "[1] 5\n",
      "\n"
     ]
    }
   ],
   "source": [
    "# MODIFYING \n",
    "empId = c(1, 2, 3, 4)\n",
    "empName = c(\"Debi\", \"Sandeep\", \"Subham\", \"Shiba\")\n",
    "numberOfEmp = 4\n",
    "empList = list(\n",
    "  \"ID\" = empId,\n",
    "  \"Names\" = empName,\n",
    "  \"Total Staff\" = numberOfEmp\n",
    ")\n",
    "cat(\"Before modifying the list\\n\")\n",
    "print(empList)\n",
    "# Modifying the top-level component\n",
    "empList$`Total Staff` = 5\n",
    "# Modifying inner level component\n",
    "empList[[1]][5] = 5\n",
    "empList[[2]][5] = \"Kamala\"\n",
    "cat(\"After modified the list\\n\")\n",
    "print(empList)"
   ]
  },
  {
   "cell_type": "code",
   "execution_count": 76,
   "metadata": {
    "vscode": {
     "languageId": "r"
    }
   },
   "outputs": [
    {
     "name": "stdout",
     "output_type": "stream",
     "text": [
      "Before concatenation of the new list\n",
      "$ID\n",
      "[1] 1 2 3 4\n",
      "\n",
      "$Names\n",
      "[1] \"Debi\"    \"Sandeep\" \"Subham\"  \"Shiba\"  \n",
      "\n",
      "$`Total Staff`\n",
      "[1] 4\n",
      "\n",
      "After concatenation of the new list\n",
      "[1] \"Debi\"    \"Sandeep\" \"Subham\"  \"Shiba\"   \"34\"      \"23\"      \"18\"     \n",
      "[8] \"45\"     \n"
     ]
    }
   ],
   "source": [
    "# CONCATENATION\n",
    "empId = c(1, 2, 3, 4)\n",
    "empName = c(\"Debi\", \"Sandeep\", \"Subham\", \"Shiba\")\n",
    "numberOfEmp = 4\n",
    "empList = list(\n",
    "  \"ID\" = empId,\n",
    "  \"Names\" = empName,\n",
    "  \"Total Staff\" = numberOfEmp\n",
    ")\n",
    "cat(\"Before concatenation of the new list\\n\")\n",
    "print(empList)\n",
    "empAge = c(34, 23, 18, 45)\n",
    "empList = c(empName, empAge)\n",
    "cat(\"After concatenation of the new list\\n\")\n",
    "print(empList)"
   ]
  },
  {
   "cell_type": "code",
   "execution_count": 77,
   "metadata": {
    "vscode": {
     "languageId": "r"
    }
   },
   "outputs": [
    {
     "name": "stdout",
     "output_type": "stream",
     "text": [
      "[[1]]\n",
      "[1] 1\n",
      "\n",
      "[[2]]\n",
      "[1] 2\n",
      "\n",
      "[[3]]\n",
      "[1] 3\n",
      "\n",
      "[[4]]\n",
      "[1] 4\n",
      "\n",
      "[1] \"new list appended\"\n",
      "[[1]]\n",
      "[1] 1\n",
      "\n",
      "[[2]]\n",
      "[1] 2\n",
      "\n",
      "[[3]]\n",
      "[1] 3\n",
      "\n",
      "[[4]]\n",
      "[1] 4\n",
      "\n",
      "[[5]]\n",
      "[1] 6\n",
      "\n"
     ]
    }
   ],
   "source": [
    "# APPENDING \n",
    "My.nums = list(1,2,3,4)\n",
    "print(My.nums)\n",
    "print(\"new list appended\")\n",
    "z = append(My.nums,6)\n",
    "print(z)\n"
   ]
  },
  {
   "cell_type": "code",
   "execution_count": 78,
   "metadata": {
    "vscode": {
     "languageId": "r"
    }
   },
   "outputs": [
    {
     "name": "stdout",
     "output_type": "stream",
     "text": [
      "Before deletion the list is\n",
      "$ID\n",
      "[1] 1 2 3 4\n",
      "\n",
      "$Names\n",
      "[1] \"Debi\"    \"Sandeep\" \"Subham\"  \"Shiba\"  \n",
      "\n",
      "$`Total Staff`\n",
      "[1] 4\n",
      "\n",
      "After Deleting Total staff components\n",
      "$ID\n",
      "[1] 1 2 3 4\n",
      "\n",
      "$Names\n",
      "[1] \"Debi\"    \"Sandeep\" \"Subham\"  \"Shiba\"  \n",
      "\n",
      "After Deleting sandeep from name\n",
      "[1] \"Debi\"   \"Subham\" \"Shiba\" \n"
     ]
    }
   ],
   "source": [
    "# DELETING A COMPONENT\n",
    "empId = c(1, 2, 3, 4)\n",
    "empName = c(\"Debi\", \"Sandeep\", \"Subham\", \"Shiba\")\n",
    "numberOfEmp = 4\n",
    "empList = list(\n",
    "\"ID\" = empId,\n",
    "\"Names\" = empName,\n",
    "\"Total Staff\" = numberOfEmp\n",
    ")\n",
    "cat(\"Before deletion the list is\\n\")\n",
    "print(empList)\n",
    "# Deleting a top level components\n",
    "cat(\"After Deleting Total staff components\\n\")\n",
    "print(empList[-3])\n",
    "# Deleting a inner level components\n",
    "cat(\"After Deleting sandeep from name\\n\")\n",
    "print(empList[[2]][-2])\n"
   ]
  },
  {
   "cell_type": "code",
   "execution_count": 79,
   "metadata": {
    "vscode": {
     "languageId": "r"
    }
   },
   "outputs": [
    {
     "name": "stdout",
     "output_type": "stream",
     "text": [
      "[[1]]\n",
      "[1] 1\n",
      "\n",
      "[[2]]\n",
      "[1] 2\n",
      "\n",
      "[[3]]\n",
      "[1] 3\n",
      "\n",
      "[[4]]\n",
      "[1] \"Sun\"\n",
      "\n",
      "[[5]]\n",
      "[1] \"Mon\"\n",
      "\n",
      "[[6]]\n",
      "[1] \"Tue\"\n",
      "\n"
     ]
    }
   ],
   "source": [
    "# MERGING LISTS\n",
    "lst1 <- list(1,2,3)\n",
    "lst2 <- list(\"Sun\",\"Mon\",\"Tue\")\n",
    " \n",
    "# Merge the two lists.\n",
    "new_list <- c(lst1,lst2)\n",
    " \n",
    "# Print the merged list.\n",
    "print(new_list)"
   ]
  },
  {
   "cell_type": "code",
   "execution_count": 80,
   "metadata": {
    "vscode": {
     "languageId": "r"
    }
   },
   "outputs": [
    {
     "name": "stdout",
     "output_type": "stream",
     "text": [
      "[[1]]\n",
      "[1] 1 2 3 4 5\n",
      "\n",
      "[1] 1 2 3 4 5\n"
     ]
    }
   ],
   "source": [
    "# CONVERTING LIST TO VECTOR\n",
    "lst <- list(1:5)\n",
    "print(lst)\n",
    "vec <- unlist(lst)\n",
    " \n",
    "print(vec)"
   ]
  },
  {
   "cell_type": "markdown",
   "metadata": {},
   "source": [
    "#### Matrices"
   ]
  },
  {
   "cell_type": "markdown",
   "metadata": {},
   "source": [
    "* 2D, homogenous with rows and cols\n",
    "* rows as horizontal and cols as vertical representation\n",
    "* function: matrix(iterable, nrow=,ncol=)"
   ]
  },
  {
   "cell_type": "code",
   "execution_count": 15,
   "metadata": {
    "vscode": {
     "languageId": "r"
    }
   },
   "outputs": [
    {
     "name": "stdout",
     "output_type": "stream",
     "text": [
      "     [,1] [,2]\n",
      "[1,]    1    3\n",
      "[2,]    2    4\n"
     ]
    },
    {
     "data": {
      "text/html": [
       "3"
      ],
      "text/latex": [
       "3"
      ],
      "text/markdown": [
       "3"
      ],
      "text/plain": [
       "[1] 3"
      ]
     },
     "metadata": {},
     "output_type": "display_data"
    },
    {
     "data": {
      "text/html": [
       "<style>\n",
       ".list-inline {list-style: none; margin:0; padding: 0}\n",
       ".list-inline>li {display: inline-block}\n",
       ".list-inline>li:not(:last-child)::after {content: \"\\00b7\"; padding: 0 .5ex}\n",
       "</style>\n",
       "<ol class=list-inline><li>1</li><li>3</li></ol>\n"
      ],
      "text/latex": [
       "\\begin{enumerate*}\n",
       "\\item 1\n",
       "\\item 3\n",
       "\\end{enumerate*}\n"
      ],
      "text/markdown": [
       "1. 1\n",
       "2. 3\n",
       "\n",
       "\n"
      ],
      "text/plain": [
       "[1] 1 3"
      ]
     },
     "metadata": {},
     "output_type": "display_data"
    },
    {
     "data": {
      "text/html": [
       "<style>\n",
       ".list-inline {list-style: none; margin:0; padding: 0}\n",
       ".list-inline>li {display: inline-block}\n",
       ".list-inline>li:not(:last-child)::after {content: \"\\00b7\"; padding: 0 .5ex}\n",
       "</style>\n",
       "<ol class=list-inline><li>3</li><li>4</li></ol>\n"
      ],
      "text/latex": [
       "\\begin{enumerate*}\n",
       "\\item 3\n",
       "\\item 4\n",
       "\\end{enumerate*}\n"
      ],
      "text/markdown": [
       "1. 3\n",
       "2. 4\n",
       "\n",
       "\n"
      ],
      "text/plain": [
       "[1] 3 4"
      ]
     },
     "metadata": {},
     "output_type": "display_data"
    },
    {
     "data": {
      "text/html": [
       "<table class=\"dataframe\">\n",
       "<caption>A matrix: 2 × 2 of type dbl</caption>\n",
       "<tbody>\n",
       "\t<tr><td>1</td><td>3</td></tr>\n",
       "\t<tr><td>2</td><td>4</td></tr>\n",
       "</tbody>\n",
       "</table>\n"
      ],
      "text/latex": [
       "A matrix: 2 × 2 of type dbl\n",
       "\\begin{tabular}{ll}\n",
       "\t 1 & 3\\\\\n",
       "\t 2 & 4\\\\\n",
       "\\end{tabular}\n"
      ],
      "text/markdown": [
       "\n",
       "A matrix: 2 × 2 of type dbl\n",
       "\n",
       "| 1 | 3 |\n",
       "| 2 | 4 |\n",
       "\n"
      ],
      "text/plain": [
       "     [,1] [,2]\n",
       "[1,] 1    3   \n",
       "[2,] 2    4   "
      ]
     },
     "metadata": {},
     "output_type": "display_data"
    },
    {
     "data": {
      "text/html": [
       "<table class=\"dataframe\">\n",
       "<caption>A matrix: 2 × 2 of type dbl</caption>\n",
       "<tbody>\n",
       "\t<tr><td>1</td><td>3</td></tr>\n",
       "\t<tr><td>2</td><td>4</td></tr>\n",
       "</tbody>\n",
       "</table>\n"
      ],
      "text/latex": [
       "A matrix: 2 × 2 of type dbl\n",
       "\\begin{tabular}{ll}\n",
       "\t 1 & 3\\\\\n",
       "\t 2 & 4\\\\\n",
       "\\end{tabular}\n"
      ],
      "text/markdown": [
       "\n",
       "A matrix: 2 × 2 of type dbl\n",
       "\n",
       "| 1 | 3 |\n",
       "| 2 | 4 |\n",
       "\n"
      ],
      "text/plain": [
       "     [,1] [,2]\n",
       "[1,] 1    3   \n",
       "[2,] 2    4   "
      ]
     },
     "metadata": {},
     "output_type": "display_data"
    },
    {
     "data": {
      "text/html": [
       "<style>\n",
       ".list-inline {list-style: none; margin:0; padding: 0}\n",
       ".list-inline>li {display: inline-block}\n",
       ".list-inline>li:not(:last-child)::after {content: \"\\00b7\"; padding: 0 .5ex}\n",
       "</style>\n",
       "<ol class=list-inline><li>2</li><li>2</li></ol>\n"
      ],
      "text/latex": [
       "\\begin{enumerate*}\n",
       "\\item 2\n",
       "\\item 2\n",
       "\\end{enumerate*}\n"
      ],
      "text/markdown": [
       "1. 2\n",
       "2. 2\n",
       "\n",
       "\n"
      ],
      "text/plain": [
       "[1] 2 2"
      ]
     },
     "metadata": {},
     "output_type": "display_data"
    },
    {
     "data": {
      "text/html": [
       "5"
      ],
      "text/latex": [
       "5"
      ],
      "text/markdown": [
       "5"
      ],
      "text/plain": [
       "[1] 5"
      ]
     },
     "metadata": {},
     "output_type": "display_data"
    },
    {
     "name": "stdout",
     "output_type": "stream",
     "text": [
      "     [,1] [,2] [,3] [,4] [,5]\n",
      "[1,]    1    3    5    7    9\n",
      "[2,]    2    4    6    8   10\n",
      "     [,1] [,2]\n",
      "[1,]    1    2\n",
      "[2,]    3    4\n",
      "[3,]    5    6\n",
      "[4,]    7    8\n",
      "[5,]    9   10\n",
      " [1]  1  2  3  4  5  6  7  8  9 10\n"
     ]
    }
   ],
   "source": [
    "# creating \n",
    "thismatrix <- matrix(c(1,2,3,4), nrow = 2, ncol = 2) # can use vector of strings too\n",
    "print(thismatrix)\n",
    "\n",
    "#accessing\n",
    "thismatrix[1,2] # syntax = matrixobj[rowpos, colpos]\n",
    "thismatrix[1,] # whole row\n",
    "thismatrix[,2] # whole col\n",
    "thismatrix[c(1,2), ] # more than one row\n",
    "thismatrix[, c(1,2)] # more than one column\n",
    "# appending/combining\n",
    "newmatrix <- cbind(thismatrix, c(5,6)) # add columns using cbind()\n",
    "newmatrix2 <- rbind(thismatrix, c(5,6)) # add rows using rbind()\n",
    "# removing\n",
    "newmatrix <- newmatrix[-c(1)]\n",
    "# num of row cols\n",
    "dim(thismatrix)\n",
    "# length\n",
    "length(newmatrix)\n",
    "# naming\n",
    "A <- matrix(1:10, nrow = 2, ncol = 5, byrow = FALSE)\n",
    "print(A) # dimnames(A) <- list(c(for rows), c(for cols)) or u can use as arg in matrix()\n",
    "# transpose\n",
    "print(t(A))\n",
    "# deconstruction\n",
    "print(c(A))\n",
    "# simple arithmatics; dimensions must be same"
   ]
  },
  {
   "cell_type": "markdown",
   "metadata": {},
   "source": [
    "#### Arrays"
   ]
  },
  {
   "cell_type": "markdown",
   "metadata": {},
   "source": [
    "* nD, homogenous(can have only one datatype)\n",
    "* function: array(iterable, dim=c(rows,cols,dimensions/pages))"
   ]
  },
  {
   "cell_type": "code",
   "execution_count": 82,
   "metadata": {
    "vscode": {
     "languageId": "r"
    }
   },
   "outputs": [
    {
     "name": "stdout",
     "output_type": "stream",
     "text": [
      ", , 1\n",
      "\n",
      "     [,1] [,2] [,3]\n",
      "[1,]    1    5    9\n",
      "[2,]    2    6   10\n",
      "[3,]    3    7    1\n",
      "[4,]    4    8    2\n",
      "\n",
      ", , 2\n",
      "\n",
      "     [,1] [,2] [,3]\n",
      "[1,]    3    7    1\n",
      "[2,]    4    8    2\n",
      "[3,]    5    9    3\n",
      "[4,]    6   10    4\n",
      "\n"
     ]
    },
    {
     "data": {
      "text/html": [
       "2"
      ],
      "text/latex": [
       "2"
      ],
      "text/markdown": [
       "2"
      ],
      "text/plain": [
       "[1] 2"
      ]
     },
     "metadata": {},
     "output_type": "display_data"
    },
    {
     "data": {
      "text/html": [
       "<style>\n",
       ".list-inline {list-style: none; margin:0; padding: 0}\n",
       ".list-inline>li {display: inline-block}\n",
       ".list-inline>li:not(:last-child)::after {content: \"\\00b7\"; padding: 0 .5ex}\n",
       "</style>\n",
       "<ol class=list-inline><li>1</li><li>5</li><li>9</li></ol>\n"
      ],
      "text/latex": [
       "\\begin{enumerate*}\n",
       "\\item 1\n",
       "\\item 5\n",
       "\\item 9\n",
       "\\end{enumerate*}\n"
      ],
      "text/markdown": [
       "1. 1\n",
       "2. 5\n",
       "3. 9\n",
       "\n",
       "\n"
      ],
      "text/plain": [
       "[1] 1 5 9"
      ]
     },
     "metadata": {},
     "output_type": "display_data"
    },
    {
     "data": {
      "text/html": [
       "<style>\n",
       ".list-inline {list-style: none; margin:0; padding: 0}\n",
       ".list-inline>li {display: inline-block}\n",
       ".list-inline>li:not(:last-child)::after {content: \"\\00b7\"; padding: 0 .5ex}\n",
       "</style>\n",
       "<ol class=list-inline><li>1</li><li>2</li><li>3</li><li>4</li></ol>\n"
      ],
      "text/latex": [
       "\\begin{enumerate*}\n",
       "\\item 1\n",
       "\\item 2\n",
       "\\item 3\n",
       "\\item 4\n",
       "\\end{enumerate*}\n"
      ],
      "text/markdown": [
       "1. 1\n",
       "2. 2\n",
       "3. 3\n",
       "4. 4\n",
       "\n",
       "\n"
      ],
      "text/plain": [
       "[1] 1 2 3 4"
      ]
     },
     "metadata": {},
     "output_type": "display_data"
    },
    {
     "data": {
      "text/html": [
       "<style>\n",
       ".list-inline {list-style: none; margin:0; padding: 0}\n",
       ".list-inline>li {display: inline-block}\n",
       ".list-inline>li:not(:last-child)::after {content: \"\\00b7\"; padding: 0 .5ex}\n",
       "</style>\n",
       "<ol class=list-inline><li>4</li><li>3</li><li>2</li></ol>\n"
      ],
      "text/latex": [
       "\\begin{enumerate*}\n",
       "\\item 4\n",
       "\\item 3\n",
       "\\item 2\n",
       "\\end{enumerate*}\n"
      ],
      "text/markdown": [
       "1. 4\n",
       "2. 3\n",
       "3. 2\n",
       "\n",
       "\n"
      ],
      "text/plain": [
       "[1] 4 3 2"
      ]
     },
     "metadata": {},
     "output_type": "display_data"
    },
    {
     "data": {
      "text/html": [
       "24"
      ],
      "text/latex": [
       "24"
      ],
      "text/markdown": [
       "24"
      ],
      "text/plain": [
       "[1] 24"
      ]
     },
     "metadata": {},
     "output_type": "display_data"
    }
   ],
   "source": [
    "# creating multidim array; here c(1:10) is 1D array\n",
    "thisarray <- array(c(1:10),dim=c(4,3,2))\n",
    "print(thisarray)\n",
    "# access iems\n",
    "thisarray[2,3,2] # arrayobj[rowpos,colpos,dim]\n",
    "thisarray[c(1),,1] # all items from first row\n",
    "thisarray[,c(1),1] # all items from first col\n",
    "# num of rows and cols\n",
    "dim(thisarray)\n",
    "# length\n",
    "length(thisarray)\n"
   ]
  },
  {
   "cell_type": "markdown",
   "metadata": {},
   "source": [
    "#### factors"
   ]
  },
  {
   "cell_type": "markdown",
   "metadata": {},
   "source": [
    "* to categorise data in levels, 1D, heterogenous(only strings and nums)\n",
    "* function: factor(iterable)"
   ]
  },
  {
   "cell_type": "code",
   "execution_count": 83,
   "metadata": {
    "vscode": {
     "languageId": "r"
    }
   },
   "outputs": [
    {
     "name": "stdout",
     "output_type": "stream",
     "text": [
      "[1] 1 2 3 4 5\n",
      "Levels: 1 2 3 4 5\n",
      "[1] \"1\" \"2\" \"3\" \"4\" \"5\"\n",
      "[1] \"1\"      \"2\"      \"3\"      \"4\"      \"5\"      \"6\"      \"7\"      \"others\"\n"
     ]
    },
    {
     "data": {
      "text/html": [
       "7"
      ],
      "text/latex": [
       "7"
      ],
      "text/markdown": [
       "7"
      ],
      "text/plain": [
       "[1] 7"
      ]
     },
     "metadata": {},
     "output_type": "display_data"
    },
    {
     "name": "stdout",
     "output_type": "stream",
     "text": [
      "[1] 3\n",
      "Levels: 1 2 3 4 5 6 7 others\n",
      "[1] 5\n",
      "Levels: 1 2 3 4 5 6 7 others\n"
     ]
    }
   ],
   "source": [
    "# creating\n",
    "thisfactor <- factor(c(1,2,3,4,5))\n",
    "print(thisfactor)\n",
    "print(levels(thisfactor))\n",
    "# setting levels \n",
    "newfactor <- factor(c(1,2,3,4,5,6,7), levels = c(1,2,3,4,5,6,7,'others'))\n",
    "print(levels(newfactor))\n",
    "# length\n",
    "length(newfactor)\n",
    "# access\n",
    "print(newfactor[3])\n",
    "# modify item\n",
    "newfactor[3] <- 5\n",
    "print(newfactor[3])\n",
    "# IF U CHANGE THE VALUE OF AN ITEM WHICH ISNT PREDEFINED IN LEVELS THEN EROOR WILL BE THROWN\n",
    "# set the new level item which is going to be added at a certain position\n"
   ]
  },
  {
   "cell_type": "markdown",
   "metadata": {},
   "source": [
    "#### Dataframes"
   ]
  },
  {
   "cell_type": "markdown",
   "metadata": {},
   "source": [
    "* 2D, heterogenous, one variable is row and one is column i.e. table wise representation\n",
    "* each col should have same type of data\n",
    "* function: data.frame()\n"
   ]
  },
  {
   "cell_type": "code",
   "execution_count": 84,
   "metadata": {
    "vscode": {
     "languageId": "r"
    }
   },
   "outputs": [
    {
     "name": "stdout",
     "output_type": "stream",
     "text": [
      "  empid empname salary\n",
      "1     1       A    100\n",
      "2     2       B    200\n",
      "3     3       C    300\n",
      "     empid       empname              salary   \n",
      " Min.   :1.0   Length:3           Min.   :100  \n",
      " 1st Qu.:1.5   Class :character   1st Qu.:150  \n",
      " Median :2.0   Mode  :character   Median :200  \n",
      " Mean   :2.0                      Mean   :200  \n",
      " 3rd Qu.:2.5                      3rd Qu.:250  \n",
      " Max.   :3.0                      Max.   :300  \n",
      "  empid empname salary dpet\n",
      "1     1       A    100   IT\n",
      "2     2       B    200  Civ\n",
      "3     3       C    300  Com\n",
      "  empid empname salary dpet\n",
      "1     1       A    100   IT\n",
      "2     2       B    200  Civ\n",
      "3     3       C    300  Com\n",
      "4     4       E    600   IT\n",
      "5     5       F   3000  Com\n",
      "  newdf.empid\n",
      "1           1\n",
      "2           2\n",
      "3           3\n",
      "4           4\n",
      "5           5\n"
     ]
    },
    {
     "data": {
      "text/html": [
       "<style>\n",
       ".list-inline {list-style: none; margin:0; padding: 0}\n",
       ".list-inline>li {display: inline-block}\n",
       ".list-inline>li:not(:last-child)::after {content: \"\\00b7\"; padding: 0 .5ex}\n",
       "</style>\n",
       "<ol class=list-inline><li>100</li><li>200</li><li>300</li><li>600</li><li>3000</li></ol>\n"
      ],
      "text/latex": [
       "\\begin{enumerate*}\n",
       "\\item 100\n",
       "\\item 200\n",
       "\\item 300\n",
       "\\item 600\n",
       "\\item 3000\n",
       "\\end{enumerate*}\n"
      ],
      "text/markdown": [
       "1. 100\n",
       "2. 200\n",
       "3. 300\n",
       "4. 600\n",
       "5. 3000\n",
       "\n",
       "\n"
      ],
      "text/plain": [
       "[1]  100  200  300  600 3000"
      ]
     },
     "metadata": {},
     "output_type": "display_data"
    },
    {
     "data": {
      "text/html": [
       "<table class=\"dataframe\">\n",
       "<caption>A data.frame: 2 × 4</caption>\n",
       "<thead>\n",
       "\t<tr><th></th><th scope=col>empid</th><th scope=col>empname</th><th scope=col>salary</th><th scope=col>dpet</th></tr>\n",
       "\t<tr><th></th><th scope=col>&lt;dbl&gt;</th><th scope=col>&lt;chr&gt;</th><th scope=col>&lt;dbl&gt;</th><th scope=col>&lt;chr&gt;</th></tr>\n",
       "</thead>\n",
       "<tbody>\n",
       "\t<tr><th scope=row>1</th><td>1</td><td>A</td><td>100</td><td>IT </td></tr>\n",
       "\t<tr><th scope=row>2</th><td>2</td><td>B</td><td>200</td><td>Civ</td></tr>\n",
       "</tbody>\n",
       "</table>\n"
      ],
      "text/latex": [
       "A data.frame: 2 × 4\n",
       "\\begin{tabular}{r|llll}\n",
       "  & empid & empname & salary & dpet\\\\\n",
       "  & <dbl> & <chr> & <dbl> & <chr>\\\\\n",
       "\\hline\n",
       "\t1 & 1 & A & 100 & IT \\\\\n",
       "\t2 & 2 & B & 200 & Civ\\\\\n",
       "\\end{tabular}\n"
      ],
      "text/markdown": [
       "\n",
       "A data.frame: 2 × 4\n",
       "\n",
       "| <!--/--> | empid &lt;dbl&gt; | empname &lt;chr&gt; | salary &lt;dbl&gt; | dpet &lt;chr&gt; |\n",
       "|---|---|---|---|---|\n",
       "| 1 | 1 | A | 100 | IT  |\n",
       "| 2 | 2 | B | 200 | Civ |\n",
       "\n"
      ],
      "text/plain": [
       "  empid empname salary dpet\n",
       "1 1     A       100    IT  \n",
       "2 2     B       200    Civ "
      ]
     },
     "metadata": {},
     "output_type": "display_data"
    }
   ],
   "source": [
    "# create\n",
    "thisdf <- data.frame(empid= c(1,2,3), empname = c(\"A\",\"B\",\"C\"), salary=c(100,200,300))\n",
    "print(thisdf)\n",
    "# summary\n",
    "print(summary(thisdf))\n",
    "# add cols\n",
    "thisdf$dpet <- c(\"IT\",\"Civ\",\"Com\")\n",
    "print(thisdf)\n",
    "# add rows: create a new df\n",
    "thisdf2 <- data.frame (\n",
    "   empid= c(4,5),\n",
    "  empname = c(\"E\", \"F\"),\n",
    "  salary = c(600, 3000), dpet = c(\"IT\",\"Com\")\n",
    ")\n",
    "newdf <- rbind(thisdf,thisdf2)\n",
    "print(newdf)\n",
    "# access\n",
    "# specific col\n",
    "accdf <- data.frame(newdf$empid) #[1]: first entry given [1:5] first 5 entries given\n",
    "print(accdf)\n",
    "newdf[,3] # all the rows and third col\n",
    "# specific row\n",
    "newdf[1:2,] # first two row and all the cols"
   ]
  },
  {
   "cell_type": "markdown",
   "metadata": {},
   "source": [
    "### Decison Making Statements"
   ]
  },
  {
   "cell_type": "markdown",
   "metadata": {},
   "source": [
    "#### if statement\n"
   ]
  },
  {
   "cell_type": "markdown",
   "metadata": {},
   "source": [
    "* syntax: \n",
    "```R\n",
    "if (boolean expression){\n",
    "    statement\n",
    "}\n",
    "```\n",
    "\n",
    "* Flow:"
   ]
  },
  {
   "cell_type": "code",
   "execution_count": 103,
   "metadata": {
    "vscode": {
     "languageId": "r"
    }
   },
   "outputs": [
    {
     "name": "stdout",
     "output_type": "stream",
     "text": [
      "[1] \"nah man\"\n"
     ]
    }
   ],
   "source": [
    "# if descion making statement\n",
    "a <- 1\n",
    "b <- 2\n",
    "if (a<b){\n",
    "    print(\"nah man\")\n",
    "}"
   ]
  },
  {
   "cell_type": "markdown",
   "metadata": {},
   "source": [
    "#### if_else statement"
   ]
  },
  {
   "cell_type": "markdown",
   "metadata": {},
   "source": [
    "* syntax:\n",
    "```R\n",
    "if (boolean expression){\n",
    "    statement\n",
    "}else {\n",
    "    statement\n",
    "}\n",
    "```\n",
    "\n",
    "* flow:"
   ]
  },
  {
   "cell_type": "code",
   "execution_count": 104,
   "metadata": {
    "vscode": {
     "languageId": "r"
    }
   },
   "outputs": [
    {
     "name": "stdout",
     "output_type": "stream",
     "text": [
      "[1] \"yeah man\"\n"
     ]
    }
   ],
   "source": [
    "# if else code block\n",
    "a <- 1\n",
    "b <- 2\n",
    "if (a>b){\n",
    "    print(\"nah man\")\n",
    "}else{\n",
    "    print(\"yeah man\")\n",
    "}"
   ]
  },
  {
   "cell_type": "markdown",
   "metadata": {},
   "source": [
    "#### else if"
   ]
  },
  {
   "cell_type": "markdown",
   "metadata": {},
   "source": [
    "* syntax:\n",
    "```R\n",
    "if (boolean expression){\n",
    "    statement\n",
    "} else if (boolean expression 2){\n",
    "    statement\n",
    "} else{\n",
    "    statement\n",
    "}\n",
    "```\n",
    "* flow:"
   ]
  },
  {
   "cell_type": "code",
   "execution_count": 105,
   "metadata": {
    "vscode": {
     "languageId": "r"
    }
   },
   "outputs": [
    {
     "name": "stdout",
     "output_type": "stream",
     "text": [
      "[1] \"nah man\"\n"
     ]
    }
   ],
   "source": [
    "# use of else if \n",
    "\n",
    "a <- 1\n",
    "b <- 2\n",
    "if (a<b){\n",
    "    print(\"nah man\")\n",
    "} else if (a>b){\n",
    "    print(\"yeah man\")\n",
    "} else{\n",
    "    print(\"whatever\")\n",
    "}"
   ]
  },
  {
   "cell_type": "markdown",
   "metadata": {},
   "source": [
    "### Iterative Loops"
   ]
  },
  {
   "cell_type": "markdown",
   "metadata": {},
   "source": [
    "#### repeat"
   ]
  },
  {
   "cell_type": "markdown",
   "metadata": {},
   "source": [
    "* execution of the code block until stop condition is applied\n",
    "* syntax:\n",
    "```R\n",
    "statement\n",
    "repeat{\n",
    "    executing statement\n",
    "    update expression\n",
    "    stop condition\n",
    "}\n",
    "```\n",
    "* flow:\n"
   ]
  },
  {
   "cell_type": "code",
   "execution_count": 106,
   "metadata": {
    "vscode": {
     "languageId": "r"
    }
   },
   "outputs": [
    {
     "name": "stdout",
     "output_type": "stream",
     "text": [
      "[1] 3\n",
      "[1] 6\n",
      "[1] 9\n",
      "[1] 12\n",
      "[1] 15\n",
      "[1] 18\n",
      "[1] 21\n",
      "[1] 24\n",
      "[1] 27\n",
      "[1] 30\n"
     ]
    }
   ],
   "source": [
    "# use of repeat\n",
    "\n",
    "i <- 3\n",
    "\n",
    "repeat{\n",
    "    print(i)\n",
    "    i <- i+3\n",
    "\n",
    "    if (i > 30){\n",
    "        break\n",
    "    }\n",
    "}"
   ]
  },
  {
   "cell_type": "markdown",
   "metadata": {},
   "source": [
    "#### while"
   ]
  },
  {
   "cell_type": "markdown",
   "metadata": {},
   "source": [
    "* statement is executed till it is held true; no stop condition required; no number of iterations to be used are known, checks the bool value of expression n+1 times\n",
    "* syntax:\n",
    "```R\n",
    "statement\n",
    "while (boolean expression){\n",
    "    executing statement\n",
    "    updating statement\n",
    "}\n",
    "```\n",
    "* flow:"
   ]
  },
  {
   "cell_type": "code",
   "execution_count": 115,
   "metadata": {
    "vscode": {
     "languageId": "r"
    }
   },
   "outputs": [
    {
     "name": "stdout",
     "output_type": "stream",
     "text": [
      "[1] 3\n",
      "[1] 6\n",
      "[1] 9\n",
      "[1] 12\n",
      "[1] 15\n",
      "[1] 18\n",
      "[1] 21\n",
      "[1] 24\n",
      "[1] 27\n"
     ]
    }
   ],
   "source": [
    "# while loop\n",
    "\n",
    "i <- 3\n",
    "while (i<30){\n",
    "    print(i)\n",
    "    i <- i + 3\n",
    "}"
   ]
  },
  {
   "cell_type": "markdown",
   "metadata": {},
   "source": [
    "#### for"
   ]
  },
  {
   "cell_type": "markdown",
   "metadata": {},
   "source": [
    "* to iterate over iterables like list, strings, vectors, matrix, dataframe etc.; execution depends on numbes of elements\n",
    "* syntax:\n",
    "```R\n",
    "iterable object\n",
    "for (iterator/counter/iterating variable in iterable object){\n",
    "    statement\n",
    "}\n",
    "```\n",
    "* flow:"
   ]
  },
  {
   "cell_type": "code",
   "execution_count": 116,
   "metadata": {
    "vscode": {
     "languageId": "r"
    }
   },
   "outputs": [
    {
     "name": "stdout",
     "output_type": "stream",
     "text": [
      "[1] 1\n",
      "[1] 2\n",
      "[1] 3\n",
      "[1] 4\n",
      "[1] 5\n",
      "[1] 6\n",
      "[1] 7\n",
      "[1] 8\n",
      "[1] 9\n"
     ]
    }
   ],
   "source": [
    "# for loop\n",
    "\n",
    "v1 <- c(1,2,3,4,5,6,7,8,9)\n",
    "\n",
    "for (i in v1){\n",
    "    print(i)\n",
    "}"
   ]
  },
  {
   "cell_type": "markdown",
   "metadata": {},
   "source": [
    "###  Decision/Loop control statements"
   ]
  },
  {
   "cell_type": "markdown",
   "metadata": {},
   "source": [
    "* Control Structures in R: Loops are fundamental in R for executing a block of code multiple times.\n",
    "* Definition of Looping: The term \"looping\" refers to cycling or iterating over code.\n",
    "* Purpose of Jump Statements: Jump statements like break and next are used to alter the flow of loops in R.\n",
    "* Jump Statements in R:\n",
    "    * Break Statement: Terminates the loop when a specific condition is met, allowing the program to continue executing the rest of the code.\n",
    "    * Next Statement: Skips the current iteration of the loop and continues with the next one. In R, the next statement serves the role of a \"continue\" statement in other languages.\n",
    "* use case:\n",
    "    * Break Statement Usage: Used to exit a loop early when a certain condition is met.\n",
    "    * Next Statement Usage: Used to bypass specific conditions within a loop without exiting it.\n",
    "* Condition-Based Execution: Loops and jump statements are vital for conditionally controlling the flow of execution in R programs.\n",
    "\n",
    "* syntax:\n",
    "```R\n",
    "if (boolean expression){\n",
    "    control/jump statements\n",
    "}\n",
    "```\n",
    "* flow:\n"
   ]
  },
  {
   "cell_type": "code",
   "execution_count": 117,
   "metadata": {
    "vscode": {
     "languageId": "r"
    }
   },
   "outputs": [
    {
     "name": "stdout",
     "output_type": "stream",
     "text": [
      "[1] \"Values are:  1\"\n",
      "[1] \"Values are:  2\"\n",
      "[1] \"Values are:  3\"\n",
      "[1] \"Values are:  4\"\n",
      "[1] \"Coming out from for loop Where i =  5\"\n",
      "[1] 1\n",
      "[1] 2\n",
      "[1] 3\n",
      "[1] 4\n",
      "[1] 5\n"
     ]
    }
   ],
   "source": [
    "# for and break\n",
    "\n",
    "no <- 1:10\n",
    "\n",
    "for (val in no) \n",
    "{ \n",
    "\tif (val == 5) \n",
    "\t{ \n",
    "\t\tprint(paste(\"Coming out from for loop Where i = \", val)) \n",
    "\t\tbreak\n",
    "\t} \n",
    "\tprint(paste(\"Values are: \", val)) \n",
    "} \n",
    "\n",
    "# while and break\n",
    "a<-1    \n",
    "while (a < 10) \n",
    "{     \n",
    "    print(a)     \n",
    "    if(a==5)     \n",
    "        break   \n",
    "    a = a + 1    \n",
    "}     "
   ]
  },
  {
   "cell_type": "code",
   "execution_count": 118,
   "metadata": {
    "vscode": {
     "languageId": "r"
    }
   },
   "outputs": [
    {
     "name": "stdout",
     "output_type": "stream",
     "text": [
      "[1] \"Values are:  1\"\n",
      "[1] \"Values are:  2\"\n",
      "[1] \"Values are:  3\"\n",
      "[1] \"Values are:  4\"\n",
      "[1] \"Values are:  5\"\n",
      "[1] \"Skipping for loop Where i =  6\"\n",
      "[1] \"Values are:  7\"\n",
      "[1] \"Values are:  8\"\n",
      "[1] \"Values are:  9\"\n",
      "[1] \"Values are:  10\"\n",
      "[1] 2\n",
      "[1] 4\n",
      "[1] 5\n"
     ]
    }
   ],
   "source": [
    "# for and next\n",
    "no <- 1:10\n",
    " \n",
    "for (val in no) \n",
    "{ \n",
    "    if (val == 6) \n",
    "    { \n",
    "        print(paste(\"Skipping for loop Where i = \", val)) \n",
    "        next\n",
    "    } \n",
    "    print(paste(\"Values are: \", val)) \n",
    "} \n",
    "\n",
    "# while and next\n",
    "x <- 1\n",
    "while(x < 5) \n",
    "{ \n",
    "    x <- x + 1; \n",
    "    if (x == 3) \n",
    "        next; \n",
    "    print(x); \n",
    "} "
   ]
  },
  {
   "cell_type": "markdown",
   "metadata": {},
   "source": [
    "### Data Reshaping"
   ]
  },
  {
   "cell_type": "markdown",
   "metadata": {},
   "source": [
    "- intro:\n",
    "* changing how data is organised into rows and columns\n",
    "* data processing in r is done by taking input as df (cuz much easier to extract data from df)\n",
    "* issue: sometimes we need a df in a specific format (different from what we have recieved in) hence USE DATA RESHAPING\n"
   ]
  },
  {
   "attachments": {
    "image.png": {
     "image/png": "[encoded data removed]"
    }
   },
   "cell_type": "markdown",
   "metadata": {},
   "source": [
    "![image.png](attachment:image.png)"
   ]
  },
  {
   "cell_type": "code",
   "execution_count": 1,
   "metadata": {
    "vscode": {
     "languageId": "r"
    }
   },
   "outputs": [
    {
     "name": "stdout",
     "output_type": "stream",
     "text": [
      "     [,1] [,2] [,3]\n",
      "[1,]    4    5    6\n",
      "[2,]    7    8    9\n",
      "[3,]   10   11   12\n",
      "\n",
      "Matrix after transpose\n",
      "     [,1] [,2] [,3]\n",
      "[1,]    4    7   10\n",
      "[2,]    5    8   11\n",
      "[3,]    6    9   12\n"
     ]
    }
   ],
   "source": [
    "# Transpose of a matrix or a df using t()\n",
    "\n",
    "m1 <- matrix(c(4:12), nrow=3, byrow=TRUE)\n",
    "print(m1)\n",
    "cat(\"\\nMatrix after transpose\\n\" )\n",
    "m2 <- t(m1)\n",
    "print(m2)"
   ]
  },
  {
   "cell_type": "code",
   "execution_count": 4,
   "metadata": {
    "vscode": {
     "languageId": "r"
    }
   },
   "outputs": [
    {
     "name": "stdout",
     "output_type": "stream",
     "text": [
      "\n",
      "The first df by joining rows and cols\n",
      "\n",
      "     v1  v2  v3   \n",
      "[1,] \"1\" \"A\" \"yes\"\n",
      "[2,] \"2\" \"B\" \"no\" \n",
      "[3,] \"3\" \"C\" \"yes\"\n",
      "[4,] \"4\" \"D\" \"no\" \n",
      "\n",
      "The second df by using data.frame() function\n",
      "\n",
      "  v1 v2  v3\n",
      "1  5  E yes\n",
      "2  6  F  no\n",
      "\n",
      "The third df by combining prev two\n",
      "\n",
      "  v1 v2  v3\n",
      "1  1  A yes\n",
      "2  2  B  no\n",
      "3  3  C yes\n",
      "4  4  D  no\n",
      "5  5  E yes\n",
      "6  6  F  no\n"
     ]
    }
   ],
   "source": [
    "# Joining rows and cols in df using rbind() and cbind()\n",
    "# you can use these to make df from multiple vectors\n",
    "\n",
    "# create vectors\n",
    "v1 <- c(1,2,3,4)\n",
    "v2 <- c(\"A\",\"B\",\"C\", \"D\")\n",
    "v3 <- c(\"yes\", \"no\",\"yes\", \"no\")\n",
    "# use cbind() to create a df out of these vectors\n",
    "df1 <- cbind(v1,v2,v3)\n",
    "cat(\"\\nThe first df by joining rows and cols\\n\\n\")\n",
    "print(df1)\n",
    "\n",
    "# another df using data.frame()\n",
    "df2 <- data.frame(v1=c(5,6), \n",
    "v2=c(\"E\",\"F\"), v3=c(\"yes\", \"no\"), \n",
    "stringsAsFactors = FALSE)\n",
    "cat(\"\\nThe second df by using data.frame() function\\n\\n\")\n",
    "print(df2)\n",
    "\n",
    "# combine df1 and df2 rowise using rbind()\n",
    "cat(\"\\nThe third df by combining prev two\\n\\n\")\n",
    "df3 <- rbind(df1, df2)\n",
    "print(df3)\n"
   ]
  }
 ],
 "metadata": {
  "kernelspec": {
   "display_name": "R",
   "language": "R",
   "name": "ir"
  },
  "language_info": {
   "codemirror_mode": "r",
   "file_extension": ".r",
   "mimetype": "text/x-r-source",
   "name": "R",
   "pygments_lexer": "r",
   "version": "4.2.3"
  }
 },
 "nbformat": 4,
 "nbformat_minor": 2
}
